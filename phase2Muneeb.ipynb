{
  "cells": [
    {
      "cell_type": "markdown",
      "metadata": {
        "id": "vTK5mDD6jWTV"
      },
      "source": [
        "Inverted Index Implementation"
      ]
    },
    {
      "cell_type": "code",
      "execution_count": 1,
      "metadata": {
        "colab": {
          "base_uri": "https://localhost:8080/"
        },
        "id": "cWauEccRjOmM",
        "outputId": "f41a2fa1-2380-4b2c-f3a7-cd7eec028985"
      },
      "outputs": [
        {
          "name": "stdout",
          "output_type": "stream",
          "text": [
            "Search Results for 'engines': {1, 2, 3}\n",
            "Search Results for 'critical': {1}\n"
          ]
        }
      ],
      "source": [
        "from collections import defaultdict\n",
        "\n",
        "class InvertedIndex:\n",
        "    def __init__(self):\n",
        "        # Dictionary where key is a word and value is a set of document IDs\n",
        "        self.index = defaultdict(set)\n",
        "\n",
        "    def add_document(self, doc_id, content):\n",
        "        words = content.split()  # Split content into words\n",
        "        for word in words:\n",
        "            self.index[word.lower()].add(doc_id)\n",
        "\n",
        "    def search(self, term):\n",
        "        # Returns the set of document IDs that contain the term\n",
        "        return self.index.get(term.lower(), set())\n",
        "\n",
        "# Test Case for Inverted Index\n",
        "inverted_index = InvertedIndex()\n",
        "inverted_index.add_document(1, \"search engines perform critical operations\")\n",
        "inverted_index.add_document(2, \"engines and operations are essential\")\n",
        "inverted_index.add_document(3, \"search engines need optimization\")\n",
        "\n",
        "print(\"Search Results for 'engines':\", inverted_index.search(\"engines\"))\n",
        "print(\"Search Results for 'critical':\", inverted_index.search(\"critical\"))\n"
      ]
    },
    {
      "cell_type": "markdown",
      "metadata": {
        "id": "ceCjLZsJjcTM"
      },
      "source": [
        "Trie (Prefix Tree) Implementation"
      ]
    },
    {
      "cell_type": "code",
      "execution_count": 2,
      "metadata": {
        "colab": {
          "base_uri": "https://localhost:8080/"
        },
        "id": "-zDLOIzsjdFE",
        "outputId": "fb4c177b-19ae-436b-e80a-0af43dac8321"
      },
      "outputs": [
        {
          "name": "stdout",
          "output_type": "stream",
          "text": [
            "Search for 'search': True\n",
            "Search for 'engine': True\n",
            "Prefix search for 'per': True\n"
          ]
        }
      ],
      "source": [
        "class TrieNode:\n",
        "    def __init__(self):\n",
        "        self.children = {}\n",
        "        self.is_end_of_word = False\n",
        "\n",
        "class Trie:\n",
        "    def __init__(self):\n",
        "        self.root = TrieNode()\n",
        "\n",
        "    def insert(self, word):\n",
        "        node = self.root\n",
        "        for char in word:\n",
        "            if char not in node.children:\n",
        "                node.children[char] = TrieNode()\n",
        "            node = node.children[char]\n",
        "        node.is_end_of_word = True\n",
        "\n",
        "    def search(self, word):\n",
        "        node = self.root\n",
        "        for char in word:\n",
        "            if char not in node.children:\n",
        "                return False\n",
        "            node = node.children[char]\n",
        "        return node.is_end_of_word\n",
        "\n",
        "    def starts_with(self, prefix):\n",
        "        node = self.root\n",
        "        for char in prefix:\n",
        "            if char not in node.children:\n",
        "                return False\n",
        "            node = node.children[char]\n",
        "        return True\n",
        "\n",
        "# Test Case for Trie\n",
        "trie = Trie()\n",
        "trie.insert(\"search\")\n",
        "trie.insert(\"engine\")\n",
        "trie.insert(\"performance\")\n",
        "\n",
        "print(\"Search for 'search':\", trie.search(\"search\"))\n",
        "print(\"Search for 'engine':\", trie.search(\"engine\"))\n",
        "print(\"Prefix search for 'per':\", trie.starts_with(\"per\"))\n"
      ]
    },
    {
      "cell_type": "markdown",
      "metadata": {
        "id": "pkMkZahajmLc"
      },
      "source": [
        "Priority Queue (Min-Heap) Implementation for Ranking"
      ]
    },
    {
      "cell_type": "code",
      "execution_count": 3,
      "metadata": {
        "colab": {
          "base_uri": "https://localhost:8080/"
        },
        "id": "K_x2VXHfjnEk",
        "outputId": "98910646-8c1e-4a6c-e791-5f2d6647e9c6"
      },
      "outputs": [
        {
          "name": "stdout",
          "output_type": "stream",
          "text": [
            "Top 2 Documents by Rank: [(1, 'Document 3'), (3, 'Document 1')]\n"
          ]
        }
      ],
      "source": [
        "import heapq\n",
        "\n",
        "class PriorityQueue:\n",
        "    def __init__(self):\n",
        "        self.heap = []\n",
        "\n",
        "    def insert(self, document, rank):\n",
        "        heapq.heappush(self.heap, (rank, document))\n",
        "\n",
        "    def get_top_n(self, n):\n",
        "        return heapq.nsmallest(n, self.heap)\n",
        "\n",
        "# Test Case for Priority Queue\n",
        "pq = PriorityQueue()\n",
        "pq.insert(\"Document 1\", 3)\n",
        "pq.insert(\"Document 2\", 5)\n",
        "pq.insert(\"Document 3\", 1)\n",
        "\n",
        "top_2 = pq.get_top_n(2)\n",
        "print(\"Top 2 Documents by Rank:\", top_2)\n"
      ]
    }
  ],
  "metadata": {
    "colab": {
      "provenance": []
    },
    "kernelspec": {
      "display_name": "Python 3",
      "name": "python3"
    },
    "language_info": {
      "codemirror_mode": {
        "name": "ipython",
        "version": 3
      },
      "file_extension": ".py",
      "mimetype": "text/x-python",
      "name": "python",
      "nbconvert_exporter": "python",
      "pygments_lexer": "ipython3",
      "version": "3.11.7"
    }
  },
  "nbformat": 4,
  "nbformat_minor": 0
}
